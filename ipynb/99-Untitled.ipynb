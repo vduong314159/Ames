{
 "cells": [
  {
   "cell_type": "code",
   "execution_count": null,
   "metadata": {},
   "outputs": [],
   "source": [
    "import numpy as np\n",
    "import pandas as pd\n",
    "from IPython.display import display\n",
    "import warnings\n",
    "warnings.filterwarnings('ignore')\n",
    "import matplotlib.pyplot as plt\n",
    "import seaborn as sns\n",
    "from collections import Counter"
   ]
  },
  {
   "cell_type": "code",
   "execution_count": null,
   "metadata": {},
   "outputs": [],
   "source": [
    "%matplotlib inline"
   ]
  },
  {
   "cell_type": "markdown",
   "metadata": {},
   "source": [
    "## Looking at Data and Data Preparation\n",
    "My first step is to always look at some basic descriptors of the dataset, make sure the data loaded correctly, and format the data as necessary. After determining how I want my dataset to be formatted, I will make those formats in an python file that I will load in each notebook. Rather than load the raw dataset, I will load my python file."
   ]
  },
  {
   "cell_type": "markdown",
   "metadata": {},
   "source": [
    "### Loading Data"
   ]
  },
  {
   "cell_type": "code",
   "execution_count": null,
   "metadata": {},
   "outputs": [],
   "source": [
    "train_df = pd.read_csv('../data/kaggle_train.csv')"
   ]
  },
  {
   "cell_type": "markdown",
   "metadata": {},
   "source": [
    "### Getting Basic Descriptors of Dataset\n",
    "I always start by making sure the loaded data matches the data description and get a general idea of the dataset in the process\n",
    "\n",
    "### Looking at Dimensions of Dataframe\n",
    "The dataframe has 81 columns which matches the dataset description. According to the data description, the dataset includes 79 explanatory variables. This does not conflict with the loaded dataset because one column, Id does not contain an explanatory variable, and SalePrice is the target not an explantory variable.\n",
    "\n",
    "For reference, the description can be found in the doc directory of this repository."
   ]
  },
  {
   "cell_type": "code",
   "execution_count": null,
   "metadata": {},
   "outputs": [],
   "source": [
    "train_df.shape\n",
    "dimm = train_df.shape; print(dimm)\n",
    "n_obs = dimm[0]"
   ]
  },
  {
   "cell_type": "code",
   "execution_count": null,
   "metadata": {},
   "outputs": [],
   "source": [
    "train_df.head(3)"
   ]
  },
  {
   "cell_type": "code",
   "execution_count": null,
   "metadata": {
    "scrolled": true
   },
   "outputs": [],
   "source": [
    "train_df.info()"
   ]
  },
  {
   "cell_type": "markdown",
   "metadata": {},
   "source": [
    "### Using Id Column to Index ames_df\n",
    "It is good practice to index the dataframe. We will use the Id column to index the data frame and then drop that. It is unique and has no predictive value. First, we will check if the Id column is unique."
   ]
  },
  {
   "cell_type": "code",
   "execution_count": null,
   "metadata": {},
   "outputs": [],
   "source": [
    "train_df[train_df.Id.duplicated()]"
   ]
  },
  {
   "cell_type": "code",
   "execution_count": null,
   "metadata": {},
   "outputs": [],
   "source": [
    "train_df =  train_df.set_index('Id')"
   ]
  },
  {
   "cell_type": "code",
   "execution_count": null,
   "metadata": {},
   "outputs": [],
   "source": [
    "######### train.3SsnPorch not valid #########\n",
    "train_df = train_df.rename(columns={ '3SsnPorch': 'ThreeSsnPorch'})"
   ]
  },
  {
   "cell_type": "markdown",
   "metadata": {},
   "source": [
    "## Imputing Nan Values That Add Information\n",
    "Nan values are difficult to work with programmatically.The data description lists the following features as having nan value that add information unlike nans that mean a data point is unknown or missing. Those features describe physical structures that may not exist in a home. For example, a nan value in PoolQC means there is no pool. It stands to reason that if PoolQC is nan, then PoolArea should be nan or zero. Let's (1) spot check that those features do not contradict each other and (2) replace nan values in columns strings such as 'none' or the number zero. \n",
    "\n",
    "\n",
    "- Alley\n",
    "- MasVnrType\n",
    "- MasVnrArea\n",
    "- BsmtQual \n",
    "- BsmtCond \n",
    "- BsmtExposure\n",
    "- BsmtFinType1\n",
    "- BsmtFinSF1 \n",
    "- BsmtFinType2\n",
    "- BsmtFinSF2\n",
    "- BsmtUnfSF\n",
    "- TotalBsmtSF\n",
    "- BsmtFullBath\n",
    "- BsmtHalfBath\n",
    "- FireplaceQu  \n",
    "- GarageType  \n",
    "- GarageYrBlt  \n",
    "- GarageFinish  \n",
    "- GarageCars\n",
    "- GarageArea \n",
    "- GarageQual \n",
    "- GarageCond \n",
    "- PoolQC \n",
    "- Fence \n",
    "- MiscFeature"
   ]
  },
  {
   "cell_type": "code",
   "execution_count": null,
   "metadata": {},
   "outputs": [],
   "source": [
    "dimm = train_df.shape\n",
    "n_obs = dimm[0]\n",
    "n_non_nans = train_df.count()\n",
    "n_nans = n_obs - n_non_nans\n",
    "feat_w_nan = n_nans[n_nans > 0]\n",
    "print(feat_w_nan.sort_values(ascending=False))"
   ]
  },
  {
   "cell_type": "code",
   "execution_count": null,
   "metadata": {},
   "outputs": [],
   "source": [
    "def check_nans(name_of_feats):\n",
    "    df = train_df[name_of_feats].copy()\n",
    "    for n in name_of_feats:\n",
    "        print(df[n].unique())\n",
    "    if len(name_of_feats) > 2:\n",
    "        for name in name_of_feats:\n",
    "            mask = df.isnull().any(axis = 1)\n",
    "            rows_w_nans_unique = df[mask].drop_duplicates()\n",
    "        display('unique combination of column values for columns with nans')\n",
    "        display(rows_w_nans_unique)\n",
    "            \n",
    "    elif len(name_of_feats) == 2:\n",
    "        for n in name_of_feats:\n",
    "            feat_is_numeric = (df[n].dtype == np.float64) or (df[n].dtype == np.int64)\n",
    "            if feat_is_numeric:\n",
    "                is_0 = df[n] == 0\n",
    "                is__null = df[n].isnull() == False\n",
    "                is_more_than_0 = df[n] > 0\n",
    "                \n",
    "                df[n] = df[n].fillna('nan')\n",
    "                df[n][is_0] = 'zero'\n",
    "                df[n][is_more_than_0] = 'not_0'\n",
    "    \n",
    "            else:\n",
    "                df[n] = df[n].fillna('nan')\n",
    "                \n",
    "        display(pd.crosstab(index = df[name_of_feats[0]], \n",
    "                            columns = df[name_of_feats[1]]))\n",
    "        \n",
    "        display(pd.crosstab(index = df[name_of_feats[0]], \n",
    "                                columns = df[name_of_feats[1]], normalize = 'index'))\n",
    "        "
   ]
  },
  {
   "cell_type": "markdown",
   "metadata": {},
   "source": [
    "#### Pool\n",
    "##### From Data Description:\n",
    ">Pool Area (Continuous): Pool area in square feet\n",
    ">\n",
    ">Pool QC (Ordinal): Pool quality\n",
    ">\t\t\n",
    ">       Ex\tExcellent\n",
    ">       Gd\tGood\n",
    ">       TA\tAverage/Typical\n",
    ">       Fa\tFair\n",
    ">       NA\tNo Pool\n",
    "\n",
    "First, we are looking all the possible values that the attribute takes on. Perhaps one column includes nans and a value implying there is no pool. This would mean that the nans do not mean there is no pool but, rather, we do not know if there is a pool or there is a pool and we do not know the pool quality.\n",
    "\n",
    "Second, we look at contingency tables to make sure that there are no rows where one attribute implies there is a pool and another implies the opposite. We can see that all 1453 rows where `PoolQC` = nan also have `PoolArea` = 0 and vice-versa. There is no discrepency."
   ]
  },
  {
   "cell_type": "code",
   "execution_count": null,
   "metadata": {},
   "outputs": [],
   "source": [
    "pool_feats = ['PoolArea', 'PoolQC']\n",
    "check_nans(pool_feats)\n",
    "\n",
    "train_df.PoolQC = train_df.PoolQC.fillna('none')"
   ]
  },
  {
   "cell_type": "markdown",
   "metadata": {},
   "source": [
    "#### Features Describing Fireplaces\n",
    "\n",
    "##### From Data Description\n",
    ">Fireplaces (Discrete): Number of fireplaces\n",
    ">\n",
    ">FireplaceQu (Ordinal): Fireplace quality\n",
    ">\n",
    ">       Ex\tExcellent - Exceptional Masonry Fireplace\n",
    ">       Gd\tGood - Masonry Fireplace in main level\n",
    ">       TA\tAverage - Prefabricated Fireplace in main living area or Masonry Fireplace in basement\n",
    ">       Fa\tFair - Prefabricated Fireplace in basement\n",
    ">       Po\tPoor - Ben Franklin Stove\n",
    ">       NA\tNo Fireplace\n"
   ]
  },
  {
   "cell_type": "code",
   "execution_count": null,
   "metadata": {},
   "outputs": [],
   "source": [
    "check_nans(['Fireplaces', 'FireplaceQu'])\n",
    "\n",
    "train_df.FireplaceQu = train_df.FireplaceQu.fillna('none')"
   ]
  },
  {
   "cell_type": "code",
   "execution_count": null,
   "metadata": {},
   "outputs": [],
   "source": [
    "garage_feats = ['GarageType', 'GarageYrBlt', 'GarageFinish', 'GarageCars', 'GarageArea', 'GarageQual', 'GarageCond']\n",
    "check_nans(garage_feats)\n",
    "\n",
    "train_df.GarageType  = train_df.GarageType.fillna('none')\n",
    "train_df.GarageYrBlt = train_df.GarageYrBlt.fillna('none')\n",
    "train_df.GarageFinish = train_df.GarageFinish.fillna('none')\n",
    "train_df.GarageQual = train_df.GarageQual.fillna('none')\n",
    "train_df.GarageCond = train_df.GarageCond.fillna('none')"
   ]
  },
  {
   "cell_type": "markdown",
   "metadata": {},
   "source": [
    "### Basment\n",
    "BsmtQual: Evaluates the height of the basement\n",
    "\n",
    "       Ex\tExcellent (100+ inches)\t\n",
    "       Gd\tGood (90-99 inches)\n",
    "       TA\tTypical (80-89 inches)\n",
    "       Fa\tFair (70-79 inches)\n",
    "       Po\tPoor (<70 inches\n",
    "       NA\tNo Basement\n",
    "\t\t\n",
    "BsmtCond: Evaluates the general condition of the basement\n",
    "\n",
    "       Ex\tExcellent\n",
    "       Gd\tGood\n",
    "       TA\tTypical - slight dampness allowed\n",
    "       Fa\tFair - dampness or some cracking or settling\n",
    "       Po\tPoor - Severe cracking, settling, or wetness\n",
    "       NA\tNo Basement\n",
    "\t\n",
    "BsmtExposure: Refers to walkout or garden level walls\n",
    "\n",
    "       Gd\tGood Exposure\n",
    "       Av\tAverage Exposure (split levels or foyers typically score average or above)\t\n",
    "       Mn\tMimimum Exposure\n",
    "       No\tNo Exposure\n",
    "       NA\tNo Basement\n",
    "\t\n",
    "BsmtFinType1: Rating of basement finished area\n",
    "\n",
    "       GLQ\tGood Living Quarters\n",
    "       ALQ\tAverage Living Quarters\n",
    "       BLQ\tBelow Average Living Quarters\t\n",
    "       Rec\tAverage Rec Room\n",
    "       LwQ\tLow Quality\n",
    "       Unf\tUnfinshed\n",
    "       NA\tNo Basement\n",
    "\t\t\n",
    "BsmtFinSF1: Type 1 finished square feet\n",
    "\n",
    "BsmtFinType2: Rating of basement finished area (if multiple types)\n",
    "\n",
    "       GLQ\tGood Living Quarters\n",
    "       ALQ\tAverage Living Quarters\n",
    "       BLQ\tBelow Average Living Quarters\t\n",
    "       Rec\tAverage Rec Room\n",
    "       LwQ\tLow Quality\n",
    "       Unf\tUnfinshed\n",
    "       NA\tNo Basement\n",
    "\n",
    "BsmtFinSF2: Type 2 finished square feet\n",
    "\n",
    "BsmtUnfSF: Unfinished square feet of basement area\n",
    "\n",
    "TotalBsmtSF: Total square feet of basement area"
   ]
  },
  {
   "cell_type": "code",
   "execution_count": null,
   "metadata": {},
   "outputs": [],
   "source": [
    "basement_feats = ['BsmtFullBath', 'BsmtHalfBath',\n",
    "                  'BsmtQual', 'BsmtCond',\n",
    "                  'BsmtFinType1', 'BsmtFinType2', 'BsmtExposure']\n",
    "check_nans(basement_feats)\n",
    "\n",
    "train_df.BsmtQual = train_df.BsmtQual.fillna('none')\n",
    "train_df.BsmtCond = train_df.BsmtCond.fillna('none')\n",
    "train_df.BsmtFinType1 = train_df.BsmtFinType1.fillna('none')\n",
    "train_df.BsmtFinType2 = train_df.BsmtFinType2.fillna('none')\n",
    "train_df.BsmtExposure = train_df.BsmtExposure.fillna('none')"
   ]
  },
  {
   "cell_type": "markdown",
   "metadata": {},
   "source": [
    "#### Fence\n",
    ">Fence (Ordinal): Fence quality\n",
    ">\t\t\n",
    ">       GdPrv\tGood Privacy\n",
    ">       MnPrv\tMinimum Privacy\n",
    ">       GdWo\tGood Wood\n",
    ">       MnWw\tMinimum Wood/Wire\n",
    ">       NA\tNo Fence"
   ]
  },
  {
   "cell_type": "code",
   "execution_count": null,
   "metadata": {},
   "outputs": [],
   "source": [
    "check_nans(['Fence'])\n",
    "\n",
    "train_df.Fence = train_df.Fence.fillna('none')"
   ]
  },
  {
   "cell_type": "markdown",
   "metadata": {},
   "source": [
    "### `MiscFeature`\n",
    "From data description:\n",
    ">MiscFeature: Miscellaneous feature not covered in other categories\n",
    ">\t\t\n",
    ">       Elev\tElevator\n",
    ">       Gar2\t2nd Garage (if not described in garage section)\n",
    ">       Othr\tOther\n",
    ">       Shed\tShed (over 100 SF)\n",
    ">       TenC\tTennis Court\n",
    ">       NA\tNone\n",
    ">MiscVal: $Value of miscellaneous feature"
   ]
  },
  {
   "cell_type": "code",
   "execution_count": null,
   "metadata": {},
   "outputs": [],
   "source": [
    "check_nans(['MiscFeature', 'MiscVal'])\n",
    "\n",
    "train_df.MiscFeature = train_df.MiscFeature.fillna('none')"
   ]
  },
  {
   "cell_type": "markdown",
   "metadata": {},
   "source": [
    "### `Alley`\n",
    ">Alley: Type of alley access to property\n",
    ">\n",
    ">       Grvl\tGravel\n",
    ">       Pave\tPaved\n",
    ">       NA \tNo alley access"
   ]
  },
  {
   "cell_type": "code",
   "execution_count": null,
   "metadata": {},
   "outputs": [],
   "source": [
    "check_nans(['Alley'])\n",
    "\n",
    "train_df.Alley = train_df.Alley.fillna('none')"
   ]
  },
  {
   "cell_type": "markdown",
   "metadata": {},
   "source": [
    "### Nan in Electrical Column\n",
    "There is only one nan in this column. This is an anomoly. We will just drop this observation. The dataset contains 1460 observations, so dropping one is trivial. \n",
    "\n",
    "Electrical (Ordinal): Electrical system\n",
    "\n",
    "       SBrkr\tStandard Circuit Breakers & Romex\n",
    "       FuseA\tFuse Box over 60 AMP and all Romex wiring (Average)\t\n",
    "       FuseF\t60 AMP Fuse Box and mostly Romex wiring (Fair)\n",
    "       FuseP\t60 AMP Fuse Box and mostly knob & tube wiring (poor)\n",
    "       Mix\tMixed"
   ]
  },
  {
   "cell_type": "code",
   "execution_count": null,
   "metadata": {},
   "outputs": [],
   "source": [
    "n_non_nan_Electrical = train_df['Electrical'].count()\n",
    "# dataframe.count() returns the nbr of non-NA values\n",
    "# df.count() is a Pandas data structure series. It is one-dimensional \n",
    "# labeled array capable of holding any data type.\n",
    "\n",
    "n_nan_Electrical = n_obs - n_non_nan_Electrical\n",
    "\n",
    "one_obs_with_nan_Electrical = train_df.Electrical.isnull()\n",
    "train_df = train_df[one_obs_with_nan_Electrical == False]\n",
    "\n",
    "train_df.shape"
   ]
  },
  {
   "cell_type": "markdown",
   "metadata": {},
   "source": [
    "### Nans in `LotFrontage`\n",
    "From data description:\n",
    ">Lot Frontage (Continuous): Linear feet of street connected to property\n",
    "\n",
    "In real estate, frontage is the width of a lot, measured at the front part of the lot. Every house has lot frontage. That means nans in that column means missing data. \n",
    "\n",
    "#### Dealing with Missing Data\n",
    "At first glance, you would think you can just ignore the missing data and do your normal calculations. We have lot frontage for 1200 of the 1460 observations in the dataset. We can just make do with the average of the 1200 values that we do know. However, just acting as if those unknown values do not exist actually affect our calculations more than not. \n",
    "\n",
    "There is no one best way to handle missing data that works in all cases. Generally, one of our goals is to make our missing data be as innocuous as possible. Let's act as if those nan values equal the mean of the known data. "
   ]
  },
  {
   "cell_type": "code",
   "execution_count": null,
   "metadata": {},
   "outputs": [],
   "source": [
    "train_df.LotFrontage.count()"
   ]
  },
  {
   "cell_type": "code",
   "execution_count": null,
   "metadata": {},
   "outputs": [],
   "source": [
    "def hist_feat(feature):\n",
    "    meann = feature.dropna().mean(); mediann = feature.dropna().median()\n",
    "    minn = feature.min(); x_lim = meann + 4*feature.dropna().std()\n",
    "\n",
    "    sns.distplot(feature.dropna(), kde=False, hist_kws = {'range': [minn, x_lim]})\n",
    "    plt.axvline(meann, label = 'mean')\n",
    "    plt.axvline(mediann, color = 'r', label = 'median')\n",
    "    plt.legend()\n",
    "    \n",
    "def hist_before_nan_to_mean(feature):\n",
    "    fig = plt.figure(); fig.add_subplot(1,2,1)\n",
    "    hist_feat(feature)\n",
    "    \n",
    "    dummy = feature.copy()\n",
    "    mask = dummy.isnull()\n",
    "    meann = dummy.dropna().mean()\n",
    "    dummy[mask] = meann\n",
    "    \n",
    "    fig.add_subplot(1,2,2)\n",
    "    hist_feat(dummy)\n",
    "\n",
    "hist_before_nan_to_mean(train_df.LotFrontage)\n",
    "\n",
    "meann = train_df.LotFrontage.mean()\n",
    "train_df.LotFrontage = train_df.LotFrontage.fillna(meann)"
   ]
  },
  {
   "cell_type": "markdown",
   "metadata": {},
   "source": [
    "### `MasVnrType` and `MasVnrArea`\n",
    ">MasVnrType: Masonry veneer type\n",
    ">\n",
    ">       BrkCmn\tBrick Common\n",
    ">       BrkFace\tBrick Face\n",
    ">       CBlock\tCinder Block\n",
    ">       None\tNone\n",
    ">       Stone\tStone\n",
    ">\t\n",
    ">MasVnrArea: Masonry veneer area in square feet\n",
    "\n",
    "There are two houses described as having some type of masonry veneer and masonry veneer areas of zero. That seems to be an error. Because there are only two observations with that error, we will just drop those two rows. "
   ]
  },
  {
   "cell_type": "code",
   "execution_count": null,
   "metadata": {},
   "outputs": [],
   "source": [
    "masonry_veneer = ['MasVnrType', 'MasVnrArea']\n",
    "check_nans(masonry_veneer)"
   ]
  },
  {
   "cell_type": "code",
   "execution_count": null,
   "metadata": {},
   "outputs": [],
   "source": [
    "pd.crosstab(index = train_df['MasVnrType'], columns = train_df['MasVnrArea'])"
   ]
  },
  {
   "cell_type": "code",
   "execution_count": null,
   "metadata": {},
   "outputs": [],
   "source": [
    "area_0_to_drop = train_df[train_df.MasVnrArea == 0]\n",
    "stone_to_drop = area_0_to_drop[train_df.MasVnrType == 'Stone'].index.values\n",
    "brickface_to_drop = area_0_to_drop[train_df.MasVnrType == 'BrkFace'].index.values\n",
    "\n",
    "train_df = train_df.drop(stone_to_drop)\n",
    "train_df = train_df.drop(brickface_to_drop)\n",
    "\n",
    "no_mv = train_df[train_df.MasVnrType == 'None']\n",
    "area_not_zero_to_drop = no_mv[no_mv.MasVnrArea > 0].index.values\n",
    "train_df = train_df.drop(area_not_zero_to_drop)\n",
    "\n",
    "train_df.MasVnrArea = train_df.MasVnrArea.fillna(0)\n",
    "train_df.MasVnrType = train_df.MasVnrType.fillna('None')"
   ]
  },
  {
   "cell_type": "code",
   "execution_count": null,
   "metadata": {},
   "outputs": [],
   "source": [
    "def display_outliers(dataframe, col, param=1.5):\n",
    "    Q1 = np.percentile(dataframe[col], 25)\n",
    "    Q3 = np.percentile(dataframe[col], 75)\n",
    "    tukey_window = param*(Q3-Q1)\n",
    "    less_than_Q1 = dataframe[col] < Q1 - tukey_window\n",
    "    greater_than_Q3 = dataframe[col] > Q3 + tukey_window\n",
    "    tukey_mask = (less_than_Q1 | greater_than_Q3)\n",
    "    return dataframe[tukey_mask]\n",
    "\n",
    "numerical_features = set()\n",
    "for col in train_df:\n",
    "    data_type = train_df[col].dtype\n",
    "    col_is_num = (data_type == np.dtype('float')) or (data_type == np.dtype('int'))\n",
    "    if col_is_num:\n",
    "        numerical_features.add(col)\n",
    "\n",
    "num_df = train_df[list(numerical_features)]\n",
    "\n",
    "for col in numerical_features:\n",
    "    print(col, \n",
    "          display_outliers(train_df, col).shape[0])"
   ]
  },
  {
   "cell_type": "markdown",
   "metadata": {},
   "source": [
    "What if we count the rows that show up as an outlier more than once?"
   ]
  },
  {
   "cell_type": "code",
   "execution_count": null,
   "metadata": {},
   "outputs": [],
   "source": [
    "raw_outliers = []\n",
    "for col in numerical_features:\n",
    "    outlier_df = display_outliers(train_df, col, param = 1.5)\n",
    "    raw_outliers += list(outlier_df.index)\n",
    "    \n",
    "\n",
    "outlier_count = Counter(raw_outliers)\n",
    "outlier_count.items()"
   ]
  },
  {
   "cell_type": "markdown",
   "metadata": {},
   "source": [
    "How many outliers are outliers for more than one feature?"
   ]
  },
  {
   "cell_type": "code",
   "execution_count": null,
   "metadata": {
    "scrolled": false
   },
   "outputs": [],
   "source": [
    "table_ = Counter(outlier_count.values())\n",
    "dict(table_)\n",
    "\n",
    "n_feats = list(outlier_count.values())\n",
    "sns.countplot(n_feats)\n",
    "plt.title('Count of Outliers and For How Many Features')\n",
    "plt.ylabel('number of outliers')\n",
    "plt.xlabel('number of features')\n",
    "\n",
    "fig = plt.figure(figsize=(12,10))\n",
    "fig.add_subplot(2,1,1)\n",
    "for i in range(1,3):\n",
    "    outliers = [k for k,v in outlier_count.items() if v > i]\n",
    "    distplot_needs_more_vals = len(outliers) < 2\n",
    "    if distplot_needs_more_vals:\n",
    "        pass\n",
    "    else:\n",
    "        sns.distplot(train_df.SalePrice.loc[outliers],\n",
    "                     label = 'outliers for ' + str(i) + ' features')\n",
    "\n",
    "sns.distplot(train_df.SalePrice,\n",
    "             label = 'all houses')\n",
    "plt.legend()        \n",
    "\n",
    "fig.add_subplot(2,1,2)\n",
    "for i in range(3,11):\n",
    "    outliers = [k for k,v in outlier_count.items() if v > i]\n",
    "    \n",
    "    distplot_needs_more_vals = len(outliers) < 2\n",
    "    if distplot_needs_more_vals:\n",
    "        pass\n",
    "    else:\n",
    "        sns.distplot(train_df.SalePrice.loc[outliers],\n",
    "                     label = 'outliers for ' + str(i) + ' features')\n",
    "\n",
    "sns.distplot(train_df.SalePrice,\n",
    "             label = 'all houses')\n",
    "plt.legend()        \n",
    "\n",
    "\n",
    "\n",
    "extreme_outliers = [k for k,v in outlier_count.items() if v > 5]\n",
    "\n",
    "train_df.loc[extreme_outliers]\n",
    "\n",
    "extreme_outliers\n",
    "\n",
    "# def get_percentile(ndx, column):\n",
    "#     df = num_df[column]\n",
    "#     df['pct'] = df.rank(pct = True)\n",
    "#     percentile = df[df[column] == value]\n",
    "    \n",
    "    \n",
    "def is_outlier_for_which_feats(ndx, param = 1.5):\n",
    "    for_which_feats = []\n",
    "    for col in num_df:\n",
    "        col_df = num_df[col]\n",
    "        Q1 = np.percentile(col_df, 25)\n",
    "        Q3 = np.percentile(col_df, 75)\n",
    "        tukey_window = param*(Q3-Q1)\n",
    "        \n",
    "        num = col_df.loc[ndx]\n",
    "        less_than_Q1 = num < Q1 - tukey_window\n",
    "        greater_than_Q3 = num > Q3 + tukey_window\n",
    "        \n",
    "        if less_than_Q1 or greater_than_Q3:\n",
    "            percentile = col_df.rank(pct = True).loc[ndx]\n",
    "            for_which_feats.append((col, percentile))\n",
    "    return for_which_feats\n",
    "\n",
    "for outlier in extreme_outliers:\n",
    "    print(outlier)\n",
    "    print('SalePrice', \n",
    "          num_df.SalePrice.rank(pct=True).loc[outlier])\n",
    "    for f in is_outlier_for_which_feats(outlier):\n",
    "        print(f)\n",
    "    print()\n",
    "\n",
    "price_outliers = display_outliers(train_df, 'SalePrice')\n",
    "sns.distplot(price_outliers.SalePrice)\n",
    "\n",
    "outliers"
   ]
  },
  {
   "cell_type": "code",
   "execution_count": null,
   "metadata": {},
   "outputs": [],
   "source": [
    "cond1_df = pd.get_dummies(train_df['Condition1'], prefix='cond')\n",
    "cond2_df = pd.get_dummies(train_df['Condition2'], prefix = 'cond')\n",
    "cond2_df['RRNe'] = 0\n",
    "cond_df = cond1_df\n",
    "cond_df[cond2_df == 1] = cond_df + 1\n",
    "cond_df[cond_df == 2] = 1\n",
    "conds = ['Condition1', 'Condition2']\n",
    "train_df = train_df.drop(conds, axis = 'columns')\n",
    "cbind = 1\n",
    "train_df = pd.concat([train_df, cond_df], axis = cbind)\n",
    "\n",
    "bm1_df = pd.get_dummies(train_df['BsmtFinType1'], prefix = 'BsmtFinType')\n",
    "bm2_df = pd.get_dummies(train_df['BsmtFinType2'], prefix = 'BsmtFinType')\n",
    "bm_df = bm1_df\n",
    "bm_df[bm2_df == 1] = bm_df + 1\n",
    "bm_df[bm_df == 2] = 1\n",
    "bm = ['BsmtFinType1', 'BsmtFinType2']\n",
    "train_df = train_df.drop(bm, axis = 'columns')\n",
    "train_df = pd.concat([train_df, bm_df], axis = cbind)\n",
    "\n",
    "ext1_df = pd.get_dummies(train_df['Exterior1st'], prefix = 'Exterior')\n",
    "ext2_df = pd.get_dummies(train_df['Exterior2nd'], prefix = 'Exterior')\n",
    "ext_df = ext1_df\n",
    "ext_df[ext2_df == 1] = ext_df + 1\n",
    "ext_df[ext_df == 2] = 1\n",
    "ext = ['Exterior1st', 'Exterior2nd']\n",
    "train_df = train_df.drop(ext, axis = 'columns')\n",
    "cbind = 1\n",
    "train_df = pd.concat([train_df, ext_df], axis = cbind)"
   ]
  },
  {
   "cell_type": "code",
   "execution_count": null,
   "metadata": {},
   "outputs": [],
   "source": [
    "yr_feat = ['YearBuilt', 'YearRemodAdd', 'GarageYrBlt']\n",
    "for y in yr_feat:\n",
    "    no_bin_nones = train_df[y].isin(['none']) == False\n",
    "    yrs = train_df[y][no_bin_nones].unique()\n",
    "    print(y, yrs.min(), yrs.max())\n",
    "\n",
    "bins = list(range(1800, 2011, 10))\n",
    "pd.options.display.max_rows = 10\n",
    "train_df.YearBuilt = pd.cut(train_df.YearBuilt, bins)\n",
    "train_df.YearRemodAdd = pd.cut(train_df.YearRemodAdd, bins)\n",
    "\n",
    "no_bin_nones = train_df[y].isin(['none']) == False\n",
    "train_df.GarageYrBlt[no_bin_nones] = pd.cut(train_df.GarageYrBlt[no_bin_nones], bins)"
   ]
  },
  {
   "cell_type": "code",
   "execution_count": null,
   "metadata": {},
   "outputs": [],
   "source": [
    "### ONE-HOT ENCODE CATEGORICAL FEATURES ###\n",
    "cat_feats = ['MSSubClass', 'MSZoning', 'Street', 'Alley',\n",
    "       'LotShape', 'LandContour', 'Utilities', 'LotConfig', 'LandSlope',\n",
    "       'Neighborhood', 'BldgType', 'HouseStyle',\n",
    "       'OverallQual', 'OverallCond', 'YearBuilt', 'YearRemodAdd', 'RoofStyle',\n",
    "       'RoofMatl', 'MasVnrType',\n",
    "       'ExterQual', 'ExterCond', 'Foundation', 'BsmtQual', 'BsmtCond',\n",
    "       'BsmtExposure', \n",
    "       'Heating', 'HeatingQC',\n",
    "       'CentralAir', 'Electrical', 'BsmtFullBath', 'BsmtHalfBath',\n",
    "       'FullBath', 'HalfBath',\n",
    "       'BedroomAbvGr', 'KitchenAbvGr', 'KitchenQual', 'TotRmsAbvGrd',\n",
    "       'Functional', 'Fireplaces', 'FireplaceQu', 'GarageType', 'GarageYrBlt',\n",
    "       'GarageFinish', 'GarageCars','GarageQual', 'GarageCond',\n",
    "       'PavedDrive','ThreeSsnPorch',\n",
    "       'ScreenPorch', 'PoolQC', 'Fence', 'MiscFeature', 'MiscVal',\n",
    "       'MoSold', 'YrSold', 'SaleType', 'SaleCondition']"
   ]
  },
  {
   "cell_type": "code",
   "execution_count": null,
   "metadata": {
    "scrolled": false
   },
   "outputs": [],
   "source": [
    "for c in cat_feats:\n",
    "    length = train_df[c].unique().size\n",
    "    print(c, length)"
   ]
  },
  {
   "cell_type": "code",
   "execution_count": null,
   "metadata": {},
   "outputs": [],
   "source": [
    "train_df[cat_feats].head()\n",
    "made_binary = pd.get_dummies(data = train_df, prefix = cat_feats, columns = cat_feats)"
   ]
  },
  {
   "cell_type": "code",
   "execution_count": null,
   "metadata": {},
   "outputs": [],
   "source": [
    "################### SCALING USING SCIKIT LEARN ##################\n",
    "# >>> from sklearn.preprocessing import StandardScaler\n",
    "# >>>\n",
    "# >>> data = [[0, 0], [0, 0], [1, 1], [1, 1]]\n",
    "# >>> scaler = StandardScaler()\n",
    "# >>> print(scaler.fit(data))\n",
    "# StandardScaler(copy=True, with_mean=True, with_std=True)\n",
    "# >>> print(scaler.mean_)\n",
    "# [ 0.5  0.5]\n",
    "# >>> print(scaler.transform(data))\n",
    "# [[-1. -1.]\n",
    "#  [-1. -1.]\n",
    "#  [ 1.  1.]\n",
    "#  [ 1.  1.]]\n",
    "# >>> print(scaler.transform([[2, 2]]))\n",
    "# [[ 3.  3.]]"
   ]
  },
  {
   "cell_type": "code",
   "execution_count": null,
   "metadata": {},
   "outputs": [],
   "source": [
    "made_binary.shape"
   ]
  },
  {
   "cell_type": "markdown",
   "metadata": {},
   "source": []
  },
  {
   "cell_type": "markdown",
   "metadata": {},
   "source": []
  },
  {
   "cell_type": "code",
   "execution_count": null,
   "metadata": {},
   "outputs": [],
   "source": [
    "non_binary = train_df.drop(columns = cat_feats).columns.values"
   ]
  },
  {
   "cell_type": "code",
   "execution_count": null,
   "metadata": {
    "scrolled": true
   },
   "outputs": [],
   "source": [
    "made_binary[non_binary].shape"
   ]
  },
  {
   "cell_type": "code",
   "execution_count": null,
   "metadata": {},
   "outputs": [],
   "source": [
    "pd.options.display.max_rows = 999"
   ]
  },
  {
   "cell_type": "code",
   "execution_count": null,
   "metadata": {
    "scrolled": false
   },
   "outputs": [],
   "source": [
    "made_binary.drop(columns = non_binary).head().transpose()"
   ]
  },
  {
   "cell_type": "code",
   "execution_count": null,
   "metadata": {},
   "outputs": [],
   "source": [
    "from sklearn.linear_model import Ridge\n",
    "from sklearn import linear_model"
   ]
  },
  {
   "cell_type": "markdown",
   "metadata": {},
   "source": [
    "`sklearn.preprocessing.StandardScaler(X, y = none)`  \n",
    "X : numpy array of shape [n_samples, n_features]; Training set.  \n",
    "y : numpy array of shape [n_samples]; Target values.  \n",
    "\n",
    "Returns:\tX_new : numpy array of shape [n_samples, n_features_new]  "
   ]
  },
  {
   "cell_type": "code",
   "execution_count": 83,
   "metadata": {},
   "outputs": [],
   "source": [
    "## feature selection using Lasso\n",
    "X = made_binary.drop(columns = 'SalePrice')\n",
    "y = train_df.SalePrice\n",
    "\n",
    "import sklearn.preprocessing as preprocessing\n",
    "X_scaled = preprocessing.scale(X.values)\n",
    "X = pd.DataFrame(X_scaled, index = X.index, columns = X.columns)\n",
    "y_scaled = preprocessing.scale(y.values)\n",
    "y = pd.Series(y_scaled, index = y.index, name = y.name)"
   ]
  },
  {
   "cell_type": "code",
   "execution_count": 86,
   "metadata": {},
   "outputs": [
    {
     "data": {
      "text/html": [
       "<div>\n",
       "<style scoped>\n",
       "    .dataframe tbody tr th:only-of-type {\n",
       "        vertical-align: middle;\n",
       "    }\n",
       "\n",
       "    .dataframe tbody tr th {\n",
       "        vertical-align: top;\n",
       "    }\n",
       "\n",
       "    .dataframe thead th {\n",
       "        text-align: right;\n",
       "    }\n",
       "</style>\n",
       "<table border=\"1\" class=\"dataframe\">\n",
       "  <thead>\n",
       "    <tr style=\"text-align: right;\">\n",
       "      <th></th>\n",
       "      <th>0</th>\n",
       "      <th>1</th>\n",
       "    </tr>\n",
       "  </thead>\n",
       "  <tbody>\n",
       "    <tr>\n",
       "      <th>0</th>\n",
       "      <td>GrLivArea</td>\n",
       "      <td>0.332908</td>\n",
       "    </tr>\n",
       "    <tr>\n",
       "      <th>1</th>\n",
       "      <td>TotalBsmtSF</td>\n",
       "      <td>0.112202</td>\n",
       "    </tr>\n",
       "    <tr>\n",
       "      <th>2</th>\n",
       "      <td>GarageCars_3</td>\n",
       "      <td>0.097470</td>\n",
       "    </tr>\n",
       "    <tr>\n",
       "      <th>3</th>\n",
       "      <td>BsmtQual_Ex</td>\n",
       "      <td>0.091741</td>\n",
       "    </tr>\n",
       "    <tr>\n",
       "      <th>4</th>\n",
       "      <td>GarageArea</td>\n",
       "      <td>0.081479</td>\n",
       "    </tr>\n",
       "    <tr>\n",
       "      <th>5</th>\n",
       "      <td>KitchenQual_Ex</td>\n",
       "      <td>0.060960</td>\n",
       "    </tr>\n",
       "    <tr>\n",
       "      <th>6</th>\n",
       "      <td>BsmtFinType_GLQ</td>\n",
       "      <td>0.043763</td>\n",
       "    </tr>\n",
       "    <tr>\n",
       "      <th>7</th>\n",
       "      <td>BsmtExposure_Gd</td>\n",
       "      <td>0.023332</td>\n",
       "    </tr>\n",
       "    <tr>\n",
       "      <th>8</th>\n",
       "      <td>OverallQual_9</td>\n",
       "      <td>0.021100</td>\n",
       "    </tr>\n",
       "    <tr>\n",
       "      <th>9</th>\n",
       "      <td>BsmtFinSF1</td>\n",
       "      <td>0.020164</td>\n",
       "    </tr>\n",
       "  </tbody>\n",
       "</table>\n",
       "</div>"
      ],
      "text/plain": [
       "                 0         1\n",
       "0        GrLivArea  0.332908\n",
       "1      TotalBsmtSF  0.112202\n",
       "2     GarageCars_3  0.097470\n",
       "3      BsmtQual_Ex  0.091741\n",
       "4       GarageArea  0.081479\n",
       "5   KitchenQual_Ex  0.060960\n",
       "6  BsmtFinType_GLQ  0.043763\n",
       "7  BsmtExposure_Gd  0.023332\n",
       "8    OverallQual_9  0.021100\n",
       "9       BsmtFinSF1  0.020164"
      ]
     },
     "metadata": {},
     "output_type": "display_data"
    },
    {
     "data": {
      "text/html": [
       "<div>\n",
       "<style scoped>\n",
       "    .dataframe tbody tr th:only-of-type {\n",
       "        vertical-align: middle;\n",
       "    }\n",
       "\n",
       "    .dataframe tbody tr th {\n",
       "        vertical-align: top;\n",
       "    }\n",
       "\n",
       "    .dataframe thead th {\n",
       "        text-align: right;\n",
       "    }\n",
       "</style>\n",
       "<table border=\"1\" class=\"dataframe\">\n",
       "  <thead>\n",
       "    <tr style=\"text-align: right;\">\n",
       "      <th></th>\n",
       "      <th>0</th>\n",
       "      <th>1</th>\n",
       "    </tr>\n",
       "  </thead>\n",
       "  <tbody>\n",
       "    <tr>\n",
       "      <th>510</th>\n",
       "      <td>FireplaceQu_none</td>\n",
       "      <td>-2.544643e-16</td>\n",
       "    </tr>\n",
       "    <tr>\n",
       "      <th>511</th>\n",
       "      <td>GarageFinish_Unf</td>\n",
       "      <td>-7.459052e-05</td>\n",
       "    </tr>\n",
       "    <tr>\n",
       "      <th>512</th>\n",
       "      <td>YearRemodAdd_(1940, 1950]</td>\n",
       "      <td>-2.939146e-03</td>\n",
       "    </tr>\n",
       "    <tr>\n",
       "      <th>513</th>\n",
       "      <td>MSZoning_RM</td>\n",
       "      <td>-7.460638e-03</td>\n",
       "    </tr>\n",
       "    <tr>\n",
       "      <th>514</th>\n",
       "      <td>CentralAir_N</td>\n",
       "      <td>-8.461471e-03</td>\n",
       "    </tr>\n",
       "    <tr>\n",
       "      <th>515</th>\n",
       "      <td>BsmtQual_TA</td>\n",
       "      <td>-1.742516e-02</td>\n",
       "    </tr>\n",
       "    <tr>\n",
       "      <th>516</th>\n",
       "      <td>KitchenQual_TA</td>\n",
       "      <td>-3.544409e-02</td>\n",
       "    </tr>\n",
       "    <tr>\n",
       "      <th>517</th>\n",
       "      <td>Fireplaces_0</td>\n",
       "      <td>-4.141052e-02</td>\n",
       "    </tr>\n",
       "    <tr>\n",
       "      <th>518</th>\n",
       "      <td>RoofMatl_ClyTile</td>\n",
       "      <td>-5.151041e-02</td>\n",
       "    </tr>\n",
       "    <tr>\n",
       "      <th>519</th>\n",
       "      <td>ExterQual_TA</td>\n",
       "      <td>-9.077662e-02</td>\n",
       "    </tr>\n",
       "  </tbody>\n",
       "</table>\n",
       "</div>"
      ],
      "text/plain": [
       "                             0             1\n",
       "510           FireplaceQu_none -2.544643e-16\n",
       "511           GarageFinish_Unf -7.459052e-05\n",
       "512  YearRemodAdd_(1940, 1950] -2.939146e-03\n",
       "513                MSZoning_RM -7.460638e-03\n",
       "514               CentralAir_N -8.461471e-03\n",
       "515                BsmtQual_TA -1.742516e-02\n",
       "516             KitchenQual_TA -3.544409e-02\n",
       "517               Fireplaces_0 -4.141052e-02\n",
       "518           RoofMatl_ClyTile -5.151041e-02\n",
       "519               ExterQual_TA -9.077662e-02"
      ]
     },
     "metadata": {},
     "output_type": "display_data"
    },
    {
     "data": {
      "text/plain": [
       "<matplotlib.axes._subplots.AxesSubplot at 0x223769b50b8>"
      ]
     },
     "execution_count": 86,
     "metadata": {},
     "output_type": "execute_result"
    },
    {
     "data": {
      "image/png": "[encoded data removed]",
      "text/plain": [
       "<matplotlib.figure.Figure at 0x22376991908>"
      ]
     },
     "metadata": {},
     "output_type": "display_data"
    }
   ],
   "source": [
    "def plot_coef(model, top_n = 10):\n",
    "    '''\n",
    "    Plots the magnitude of coefficients\n",
    "    '''\n",
    "    cols = X.columns\n",
    "    coef = model.coef_\n",
    "    zipped = list(zip(cols, coef))\n",
    "    zipped.sort(key=lambda x: x[1], reverse = True)\n",
    "    top_10 = pd.DataFrame(zipped).head(top_n)\n",
    "    bottom_10 = pd.DataFrame(zipped).tail(top_n)\n",
    "    display(top_10)\n",
    "    display(bottom_10)\n",
    "    return pd.concat([top_10, bottom_10], axis=0).plot.barh(x = 0, y = 1)\n",
    "\n",
    "lasso = linear_model.Lasso(alpha=0.1)\n",
    "lasso.fit(X, y)\n",
    "# print(lasso.coef_)\n",
    "# print(lasso.intercept_)\n",
    "\n",
    "# lasso.score(X,y)\n",
    "\n",
    "# lasso.coef_\n",
    "\n",
    "plot_coef(lasso)"
   ]
  },
  {
   "cell_type": "markdown",
   "metadata": {},
   "source": [
    "### Interpretation of Ridge and Lasso Results\n",
    "Ridge and lasso is just ordinary least squares (OLS) linear regression subject to constraints to reduce the variance of the our coefficient estimators. Unlike OLS, it is not unbiased (according to Gauss-Markov Theorem) but when our features are highly correlated, our coefficient estimators have high variance. \n",
    "\n",
    "From the $R^{2}$, which is the proportion of the explained variance to the total variance, we see that our dataset is very linear and linear regression is appropriate. Because it is linear, using ANOVA for feature selection/elimination was appropriate. \n",
    "\n",
    "Lasso can be preferable to Ridge regression because Lasso usually helps with feature selection. Lasso regression subjects our linear model to the constraint that the L1-norm of our coefficent estimator vector be less than some constant, unlike Ridge regression which uses the L2-norm. The L1-norm is pointy and the optimized linear regression subject to the L1-penalty usually \"hits\" an edge where coefficient estimators are zero or very small. \n",
    "Lasso was not necessary for feature selection in this case as we can see the ridge regression model is nearly identical to the lasso regression model. \n",
    "\n",
    "We can see from our coefficent estimators which feature is most useful for predicting sale. price. The larger the coeffient, the larger the \"effect\" (remember that association does not imply causation).\n",
    "\n",
    "Note: informal derivation of Ridge and Lasso in doc directory"
   ]
  },
  {
   "cell_type": "markdown",
   "metadata": {},
   "source": [
    "#### Ridge"
   ]
  },
  {
   "cell_type": "code",
   "execution_count": null,
   "metadata": {},
   "outputs": [],
   "source": [
    "X = train_df.drop(columns = ['SalePrice'])\n",
    "y = train_df.SalePrice\n",
    "ridge = Ridge(alpha=1.0)\n",
    "ridge.fit(train_df.drop(columns = ['SalePrice']), train_df.SalePrice) \n",
    "\n",
    "ridge_r2 = ridge.score(X,y); print(ridge_r2)\n",
    "\n",
    "ridge.coef_\n",
    "\n",
    "X.columns\n",
    "\n",
    "\n",
    "\n",
    "plot_coef(ridge)"
   ]
  },
  {
   "cell_type": "markdown",
   "metadata": {},
   "source": [
    "#### Lasso"
   ]
  },
  {
   "cell_type": "code",
   "execution_count": null,
   "metadata": {},
   "outputs": [],
   "source": [
    "lasso = linear_model.Lasso(alpha=0.1)\n",
    "lasso.fit(X, y)\n",
    "print(lasso.coef_)\n",
    "print(lasso.intercept_)\n",
    "\n",
    "lasso.score(X,y)\n",
    "\n",
    "lasso.coef_\n",
    "\n",
    "plot_coef(ridge)"
   ]
  },
  {
   "cell_type": "markdown",
   "metadata": {},
   "source": [
    "Ordinal Categorical Features\n",
    "The following features are ordinal, but that does not necessarily mean they should be numerical. There are two reasons why I am making the following ordinal features categorical.\n",
    "\n",
    "We cannot say with certainty that the difference between two consecutive values of these ordinal features is not the same as the difference between between two other consecutive values. Take OverallQual for example. It would be reasonable to say that the difference between a house with \"OverallQual 4 Below Average\" (data description) and a house with \"OverallQual 5 Average\" is not the same as the difference between a house with OverallQual being very excellent and a house with OverallQual being excellent. We would say there is diminishing returns.\n",
    "\n",
    "We could scale the values to reflect the true relationship, but that will likely introduce a lot of error. It is better to not use the ordinality of these features than to use it incorrectly."
   ]
  },
  {
   "cell_type": "code",
   "execution_count": null,
   "metadata": {},
   "outputs": [],
   "source": [
    "########### SCATTER PLOTS ###############\n",
    "fig = plt.figure(figsize=(15,50))\n",
    "for i, col in enumerate(numeric_cols[:-1]):\n",
    "    fig.add_subplot(12,3,1+i)\n",
    "    plt.scatter(house_df[col], house_df['SalePrice'])\n",
    "    plt.xlabel(col)\n",
    "    plt.ylabel('SalePrice')\n",
    "fig.tight_layout()\n",
    "plt.show"
   ]
  }
 ],
 "metadata": {
  "kernelspec": {
   "display_name": "Python 3",
   "language": "python",
   "name": "python3"
  },
  "language_info": {
   "codemirror_mode": {
    "name": "ipython",
    "version": 3
   },
   "file_extension": ".py",
   "mimetype": "text/x-python",
   "name": "python",
   "nbconvert_exporter": "python",
   "pygments_lexer": "ipython3",
   "version": "3.6.4"
  }
 },
 "nbformat": 4,
 "nbformat_minor": 2
}
