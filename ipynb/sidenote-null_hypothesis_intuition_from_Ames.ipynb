{
 "cells": [
  {
   "cell_type": "markdown",
   "metadata": {},
   "source": [
    "## Intuitive Example of Why We Never Technically Accept the Null Hypothesis, We Only Reject It\n",
    "\n",
    "While analyzing the Ames housing dataset, we did hypthesis testing, ANOVA. Specifically, we tested wether the mean sale prices for each value that the `Utilities` feature can take on are equal. That is, is the mean sale price of homes where `Uitilities` = some value equal to the mean sale prices of homes where `Utilities` = any other possible value.  \n",
    "\n",
    "ANOVA gave us a p-value of 0.58. Recall that the p-value is the probability of getting our samples given that the null hypothesis is true. This p-value means that if the mean sale price for each group of homes separated by `Utilities` value is equal to one another, then there is a 58%* chance of our sample's sale price for each value having the distribution that it has. Remember, we are making inferences about all homes sold in Ames, what we call the population, from samples. If we had complete data of all the homes in Ames, this hypothesis test would be pointless. \n",
    "\n",
    "Another important point to remember is that *ANOVA does not tell us to accept the null hypothesis, only whether we can reject the null hypothesis*. Consider that `Utilities` can only take on two values that tell us whether a home has a working sewage system or not. We only have data on one home without a sewage system. That is why ANOVA cannot tell us that we can reject the null hypothesis, the hypothesis that the mean sale prices of homes with a working toilet is equal to the mean sale prices of homes without. Common knowledge tells us that we can reject the null hypotheis. ANOVA/Statistics tells us we can not not reject the null hypotheis, not that we can accept it. It is not saying that homes with working toilets are equal to homes without working toilets. \n",
    "\n",
    "\n",
    "*To be unnecessarily pedantic and super technical, it is 58% given the assumptions underlying ANOVA. There are moderate deviations from those assumptions so it's really approximately 58%."
   ]
  }
 ],
 "metadata": {
  "kernelspec": {
   "display_name": "Python 3",
   "language": "python",
   "name": "python3"
  },
  "language_info": {
   "codemirror_mode": {
    "name": "ipython",
    "version": 3
   },
   "file_extension": ".py",
   "mimetype": "text/x-python",
   "name": "python",
   "nbconvert_exporter": "python",
   "pygments_lexer": "ipython3",
   "version": "3.6.4"
  }
 },
 "nbformat": 4,
 "nbformat_minor": 2
}
